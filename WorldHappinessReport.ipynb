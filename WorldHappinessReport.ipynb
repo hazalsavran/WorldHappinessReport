{
 "cells": [
  {
   "cell_type": "code",
   "execution_count": 1,
   "id": "a92e7243-01e9-4c24-a220-12883cdd8e3f",
   "metadata": {},
   "outputs": [
    {
     "name": "stdout",
     "output_type": "stream",
     "text": [
      "En mutlu ülke: Norway\n",
      "Economy..GDP.per.Capita. en yüksek ülke: Qatar\n",
      "Family en yüksek ülke: Iceland\n",
      "Health..Life.Expectancy. en yüksek ülke: Singapore\n",
      "Freedom en yüksek ülke: Uzbekistan\n",
      "Generosity en yüksek ülke: Myanmar\n",
      "Trust..Government.Corruption. en yüksek ülke: Singapore\n"
     ]
    }
   ],
   "source": [
    "import pandas as pd\n",
    "\n",
    "df_2017 = pd.read_csv(\"C:/Users/hazal/Downloads/archive/2017.csv\")\n",
    "\n",
    "print(\"En mutlu ülke:\", df_2017.loc[df_2017['Happiness.Score'].idxmax(), 'Country'])\n",
    "\n",
    "factors = ['Economy..GDP.per.Capita.', 'Family', 'Health..Life.Expectancy.', 'Freedom', 'Generosity', 'Trust..Government.Corruption.']\n",
    "\n",
    "for factor in factors:\n",
    "    country = df_2017.loc[df_2017[factor].idxmax(), 'Country']\n",
    "    print(f\"{factor} en yüksek ülke: {country}\")\n"
   ]
  },
  {
   "cell_type": "code",
   "execution_count": 25,
   "id": "be5036f2-2237-4b03-9f32-4e46ebf665b7",
   "metadata": {},
   "outputs": [
    {
     "name": "stdout",
     "output_type": "stream",
     "text": [
      "En mutlu ülke: Switzerland\n",
      "Economy (GDP per Capita) en yüksek ülke: Qatar\n",
      "Family en yüksek ülke: Iceland\n",
      "Health (Life Expectancy) en yüksek ülke: Singapore\n",
      "Freedom en yüksek ülke: Norway\n",
      "Generosity en yüksek ülke: Myanmar\n",
      "Trust (Government Corruption) en yüksek ülke: Rwanda\n"
     ]
    }
   ],
   "source": [
    "df_2015 = pd.read_csv(\"C:/Users/hazal/Downloads/archive/2015.csv\")\n",
    "# En yüksek mutluluk skoruna sahip ülke\n",
    "print(\"En mutlu ülke:\", df_2015.loc[df_2015['Happiness Score'].idxmax(), 'Country'])\n",
    "\n",
    "# 6 temel faktör\n",
    "factors = [\n",
    "    'Economy (GDP per Capita)',\n",
    "    'Family',\n",
    "    'Health (Life Expectancy)',\n",
    "    'Freedom',\n",
    "    'Generosity',\n",
    "    'Trust (Government Corruption)'\n",
    "]\n",
    "\n",
    "# Her faktörde en yüksek skoru alan ülke\n",
    "for factor in factors:\n",
    "    country = df_2015.loc[df_2015[factor].idxmax(), 'Country']\n",
    "    print(f\"{factor} en yüksek ülke: {country}\")"
   ]
  },
  {
   "cell_type": "code",
   "execution_count": 29,
   "id": "9868d21b-f8c9-4f87-a41b-13c00ed0a375",
   "metadata": {},
   "outputs": [
    {
     "name": "stdout",
     "output_type": "stream",
     "text": [
      "Mutluluğu en çok artan ülkeler:\n",
      "          Country  Score_Change  Rank_Change\n",
      "122      Bulgaria         0.497           24\n",
      "146   Afghanistan         0.434           13\n",
      "148         Syria         0.393            4\n",
      "113         Egypt         0.373           16\n",
      "109  South Africa         0.370           15\n",
      "127         Gabon         0.344           16\n",
      "138        Uganda         0.342           12\n",
      "121       Senegal         0.316           13\n",
      "97       Honduras         0.310           13\n",
      "67        Romania         0.297           14\n"
     ]
    }
   ],
   "source": [
    "df_2016 = pd.read_csv(\"C:/Users/hazal/Downloads/archive/2016.csv\")\n",
    "df_2017 = pd.read_csv(\"C:/Users/hazal/Downloads/archive/2017.csv\")\n",
    "\n",
    "\n",
    "df_2016 = df_2016.rename(columns={\n",
    "    'Happiness Rank': 'Happiness Rank',\n",
    "    'Happiness Score': 'Happiness Score'\n",
    "})\n",
    "\n",
    "df_2017 = df_2017.rename(columns={\n",
    "    'Happiness.Rank': 'Happiness Rank',\n",
    "    'Happiness.Score': 'Happiness Score'\n",
    "})\n",
    "\n",
    "# Ortak ülkeler\n",
    "merged = pd.merge(df_2016[['Country', 'Happiness Rank', 'Happiness Score']], \n",
    "                  df_2017[['Country', 'Happiness Rank', 'Happiness Score']],\n",
    "                  on='Country', suffixes=('_2016', '_2017'))\n",
    "\n",
    "merged['Score_Change'] = merged['Happiness Score_2017'] - merged['Happiness Score_2016']\n",
    "merged['Rank_Change'] = merged['Happiness Rank_2016'] - merged['Happiness Rank_2017']  # Pozitifse sıralamada yükselmiş\n",
    "\n",
    "# En çok artan ülkeler\n",
    "merged_sorted = merged.sort_values('Score_Change', ascending=False)\n",
    "\n",
    "# Sonuçları göster\n",
    "print(\"Mutluluğu en çok artan ülkeler:\")\n",
    "print(merged_sorted[['Country', 'Score_Change', 'Rank_Change']].head(10))\n"
   ]
  },
  {
   "cell_type": "code",
   "execution_count": 31,
   "id": "a828aa0d-96a3-4272-9656-d56e31d76c67",
   "metadata": {},
   "outputs": [
    {
     "name": "stdout",
     "output_type": "stream",
     "text": [
      "Mutlulukta önemli değişiklik yaşayan ülkeler:\n",
      "      Country  Score_Change  Rank_Change\n",
      "40  Venezuela        -0.834          -38\n"
     ]
    }
   ],
   "source": [
    "df_2016 = pd.read_csv(\"C:/Users/hazal/Downloads/archive/2016.csv\")\n",
    "df_2017 = pd.read_csv(\"C:/Users/hazal/Downloads/archive/2017.csv\")\n",
    "\n",
    "# 2017 dosyasında noktalı sütunları boşluklu hale getirme\n",
    "df_2017 = df_2017.rename(columns={\n",
    "    'Happiness.Rank': 'Happiness Rank',\n",
    "    'Happiness.Score': 'Happiness Score'\n",
    "})\n",
    "\n",
    "merged = pd.merge(\n",
    "    df_2016[['Country', 'Happiness Rank', 'Happiness Score']],\n",
    "    df_2017[['Country', 'Happiness Rank', 'Happiness Score']],\n",
    "    on='Country',\n",
    "    suffixes=('_2016', '_2017')\n",
    ")\n",
    "\n",
    "# Farklar\n",
    "merged['Score_Change'] = merged['Happiness Score_2017'] - merged['Happiness Score_2016']\n",
    "merged['Rank_Change'] = merged['Happiness Rank_2016'] - merged['Happiness Rank_2017']\n",
    "\n",
    "# Önemli değişim yaşayanlar\n",
    "significant_changes = merged[merged['Score_Change'].abs() > 0.5]\n",
    "\n",
    "# Sonuç\n",
    "print(\"Mutlulukta önemli değişiklik yaşayan ülkeler:\")\n",
    "print(significant_changes[['Country', 'Score_Change', 'Rank_Change']])\n"
   ]
  },
  {
   "cell_type": "code",
   "execution_count": null,
   "id": "64b692f7-807c-4375-b7ae-b24a4ab39dce",
   "metadata": {},
   "outputs": [],
   "source": []
  }
 ],
 "metadata": {
  "kernelspec": {
   "display_name": "Python [conda env:base] *",
   "language": "python",
   "name": "conda-base-py"
  },
  "language_info": {
   "codemirror_mode": {
    "name": "ipython",
    "version": 3
   },
   "file_extension": ".py",
   "mimetype": "text/x-python",
   "name": "python",
   "nbconvert_exporter": "python",
   "pygments_lexer": "ipython3",
   "version": "3.12.7"
  }
 },
 "nbformat": 4,
 "nbformat_minor": 5
}
